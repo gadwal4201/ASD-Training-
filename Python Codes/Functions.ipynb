{
 "cells": [
  {
   "cell_type": "markdown",
   "id": "2acf7b81",
   "metadata": {},
   "source": [
    "# Functions"
   ]
  },
  {
   "cell_type": "code",
   "execution_count": 1,
   "id": "a37692f0",
   "metadata": {},
   "outputs": [
    {
     "data": {
      "text/plain": [
       "30"
      ]
     },
     "execution_count": 1,
     "metadata": {},
     "output_type": "execute_result"
    }
   ],
   "source": [
    "# Built a basic calculator using function using two numbers\n",
    "\n",
    "def fun(a,b,c):\n",
    "    if c==\"+\":\n",
    "        return a+b\n",
    "    elif c==\"-\":\n",
    "        return a-b\n",
    "    elif c==\"*\":\n",
    "        return a*b\n",
    "    elif c==\"/\":\n",
    "        return a/b\n",
    "    else:\n",
    "        return \"Wrong choice\"\n",
    "    \n",
    "a = int(input(\"Enter 1st number : \"))\n",
    "b = int(input(\"Enter 2nd number : \"))\n",
    "c = input(\"Enter operator : \")\n",
    "fun(a,b,c)"
   ]
  },
  {
   "cell_type": "markdown",
   "id": "502a4672",
   "metadata": {},
   "source": [
    "# Object Oriented Programming"
   ]
  },
  {
   "cell_type": "code",
   "execution_count": 2,
   "id": "0b7e832e",
   "metadata": {},
   "outputs": [],
   "source": [
    "# Class & Objects\n",
    "\n",
    "# Class - Blueprint or prototype of object\n",
    "# Object - instance of the class\n"
   ]
  },
  {
   "cell_type": "code",
   "execution_count": 3,
   "id": "dfc65acd",
   "metadata": {},
   "outputs": [
    {
     "name": "stdout",
     "output_type": "stream",
     "text": [
      "5000\n",
      "2000\n"
     ]
    }
   ],
   "source": [
    "class Furniture:\n",
    "    table = 5000\n",
    "    chair = 2000\n",
    "    \n",
    "obj = Furniture()\n",
    "print(obj.table)\n",
    "print(obj.chair)"
   ]
  },
  {
   "cell_type": "code",
   "execution_count": null,
   "id": "f98680b6",
   "metadata": {},
   "outputs": [],
   "source": [
    "# Use of __init__() constructor\n",
    "\n"
   ]
  },
  {
   "cell_type": "code",
   "execution_count": null,
   "id": "11bf62a4",
   "metadata": {},
   "outputs": [],
   "source": [
    "# 4 Basic piller of OOP\n",
    "# 1. Inheritance, 2. Abstraction, 3. Encapsulation, 4. Polymorphism"
   ]
  },
  {
   "cell_type": "code",
   "execution_count": 4,
   "id": "830b8d3d",
   "metadata": {},
   "outputs": [
    {
     "name": "stdout",
     "output_type": "stream",
     "text": [
      "Codechef Programmer\n",
      "Leetcode Problem solver\n"
     ]
    }
   ],
   "source": [
    "class parent:\n",
    "    def skill_F(self):\n",
    "        print(\"Leetcode Problem solver\")\n",
    "\n",
    "class child(parent):\n",
    "    def skill_C(self):\n",
    "        print(\"Codechef Programmer\")\n",
    "\n",
    "obj = child()\n",
    "obj.skill_C()\n",
    "obj.skill_F()"
   ]
  },
  {
   "cell_type": "code",
   "execution_count": 5,
   "id": "199c70b3",
   "metadata": {},
   "outputs": [
    {
     "name": "stdout",
     "output_type": "stream",
     "text": [
      "Father of a baby\n",
      "Husband of women\n",
      "Employee a company\n"
     ]
    }
   ],
   "source": [
    "# Polymorphism\n",
    "\n",
    "class Father:\n",
    "    def role(self):\n",
    "        return \"Father of a baby\"\n",
    "class Husband:\n",
    "    def role(self):\n",
    "        return \"Husband of women\"\n",
    "class Employee:\n",
    "    def role(self):\n",
    "        return \"Employee a company\"\n",
    "    \n",
    "def display_role(role_object):\n",
    "    print(role_object.role())\n",
    "    \n",
    "objF = Father()\n",
    "objH = Husband()\n",
    "objE = Employee()\n",
    "\n",
    "display_role(objF)\n",
    "display_role(objH)\n",
    "display_role(objE)"
   ]
  },
  {
   "cell_type": "code",
   "execution_count": 6,
   "id": "9d42ff57",
   "metadata": {},
   "outputs": [
    {
     "data": {
      "text/plain": [
       "0"
      ]
     },
     "execution_count": 6,
     "metadata": {},
     "output_type": "execute_result"
    }
   ],
   "source": [
    "# Method Overloading : In a python the method overloading concept \n",
    "\n",
    "class calculator:\n",
    "    def add(self,a=0,b=0,c=0):\n",
    "        return a+b+c\n",
    "    \n",
    "obj = calculator()\n",
    "obj.add()"
   ]
  },
  {
   "cell_type": "code",
   "execution_count": 7,
   "id": "676b4633",
   "metadata": {},
   "outputs": [
    {
     "data": {
      "text/plain": [
       "10"
      ]
     },
     "execution_count": 7,
     "metadata": {},
     "output_type": "execute_result"
    }
   ],
   "source": [
    "obj.add(10)"
   ]
  },
  {
   "cell_type": "code",
   "execution_count": 8,
   "id": "b6ff1d83",
   "metadata": {},
   "outputs": [
    {
     "data": {
      "text/plain": [
       "30"
      ]
     },
     "execution_count": 8,
     "metadata": {},
     "output_type": "execute_result"
    }
   ],
   "source": [
    "obj.add(10,20)"
   ]
  },
  {
   "cell_type": "code",
   "execution_count": 9,
   "id": "24251bfd",
   "metadata": {},
   "outputs": [
    {
     "data": {
      "text/plain": [
       "60"
      ]
     },
     "execution_count": 9,
     "metadata": {},
     "output_type": "execute_result"
    }
   ],
   "source": [
    "obj.add(10,20,30)\n"
   ]
  },
  {
   "cell_type": "code",
   "execution_count": 11,
   "id": "7555a976",
   "metadata": {},
   "outputs": [
    {
     "name": "stdout",
     "output_type": "stream",
     "text": [
      "Codechef Programmer\n",
      "Leetcode Problem solver\n"
     ]
    }
   ],
   "source": [
    "# Method Overriding \n",
    "\n",
    "class parent:\n",
    "    def skill(self):\n",
    "        print(\"Leetcode Problem solver\")\n",
    "\n",
    "class child(parent):\n",
    "    def skill(self):\n",
    "        print(\"Codechef Programmer\")\n",
    "\n",
    "obj_c = child()\n",
    "obj_f = parent()\n",
    "obj_c.skill()\n",
    "obj_f.skill()"
   ]
  },
  {
   "cell_type": "code",
   "execution_count": null,
   "id": "1c17a0d5",
   "metadata": {},
   "outputs": [],
   "source": [
    "# Abstraction :\n",
    "\n",
    "from abc import ABC, abstractmethod\n",
    "\n",
    "class ReserveBank():\n",
    "    "
   ]
  }
 ],
 "metadata": {
  "kernelspec": {
   "display_name": "Python 3",
   "language": "python",
   "name": "python3"
  },
  "language_info": {
   "codemirror_mode": {
    "name": "ipython",
    "version": 3
   },
   "file_extension": ".py",
   "mimetype": "text/x-python",
   "name": "python",
   "nbconvert_exporter": "python",
   "pygments_lexer": "ipython3",
   "version": "3.12.4"
  }
 },
 "nbformat": 4,
 "nbformat_minor": 5
}
